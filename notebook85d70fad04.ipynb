{
 "cells": [
  {
   "cell_type": "code",
   "execution_count": 1,
   "id": "43f7b596",
   "metadata": {
    "_cell_guid": "b1076dfc-b9ad-4769-8c92-a6c4dae69d19",
    "_uuid": "8f2839f25d086af736a60e9eeb907d3b93b6e0e5",
    "execution": {
     "iopub.execute_input": "2025-07-08T10:12:42.742479Z",
     "iopub.status.busy": "2025-07-08T10:12:42.742136Z",
     "iopub.status.idle": "2025-07-08T10:12:44.267530Z",
     "shell.execute_reply": "2025-07-08T10:12:44.266638Z"
    },
    "papermill": {
     "duration": 1.529256,
     "end_time": "2025-07-08T10:12:44.268731",
     "exception": false,
     "start_time": "2025-07-08T10:12:42.739475",
     "status": "completed"
    },
    "tags": []
   },
   "outputs": [
    {
     "name": "stdout",
     "output_type": "stream",
     "text": [
      "/kaggle/input/national-health-and-nutrition-examination-survey/examination.csv\n",
      "/kaggle/input/national-health-and-nutrition-examination-survey/medications.csv\n",
      "/kaggle/input/national-health-and-nutrition-examination-survey/demographic.csv\n",
      "/kaggle/input/national-health-and-nutrition-examination-survey/labs.csv\n",
      "/kaggle/input/national-health-and-nutrition-examination-survey/questionnaire.csv\n",
      "/kaggle/input/national-health-and-nutrition-examination-survey/diet.csv\n"
     ]
    }
   ],
   "source": [
    "# This Python 3 environment comes with many helpful analytics libraries installed\n",
    "# It is defined by the kaggle/python Docker image: https://github.com/kaggle/docker-python\n",
    "# For example, here's several helpful packages to load\n",
    "\n",
    "import numpy as np # linear algebra\n",
    "import pandas as pd # data processing, CSV file I/O (e.g. pd.read_csv)\n",
    "\n",
    "# Input data files are available in the read-only \"../input/\" directory\n",
    "# For example, running this (by clicking run or pressing Shift+Enter) will list all files under the input directory\n",
    "\n",
    "import os\n",
    "for dirname, _, filenames in os.walk('/kaggle/input'):\n",
    "    for filename in filenames:\n",
    "        print(os.path.join(dirname, filename))\n",
    "\n",
    "# You can write up to 20GB to the current directory (/kaggle/working/) that gets preserved as output when you create a version using \"Save & Run All\" \n",
    "# You can also write temporary files to /kaggle/temp/, but they won't be saved outside of the current session"
   ]
  },
  {
   "cell_type": "code",
   "execution_count": 2,
   "id": "ee9caec4",
   "metadata": {
    "execution": {
     "iopub.execute_input": "2025-07-08T10:12:44.272374Z",
     "iopub.status.busy": "2025-07-08T10:12:44.272032Z",
     "iopub.status.idle": "2025-07-08T10:12:46.657560Z",
     "shell.execute_reply": "2025-07-08T10:12:46.656550Z"
    },
    "papermill": {
     "duration": 2.38847,
     "end_time": "2025-07-08T10:12:46.658759",
     "exception": false,
     "start_time": "2025-07-08T10:12:44.270289",
     "status": "completed"
    },
    "tags": []
   },
   "outputs": [
    {
     "name": "stdout",
     "output_type": "stream",
     "text": [
      "Final shape after merging and dropping NAs: (2865, 19)\n",
      "              precision    recall  f1-score   support\n",
      "\n",
      "      Normal       1.00      1.00      1.00       384\n",
      "Pre-diabetic       1.00      1.00      1.00       131\n",
      "    Diabetic       1.00      1.00      1.00        58\n",
      "\n",
      "    accuracy                           1.00       573\n",
      "   macro avg       1.00      1.00      1.00       573\n",
      "weighted avg       1.00      1.00      1.00       573\n",
      "\n"
     ]
    }
   ],
   "source": [
    "import numpy as np\n",
    "import pandas as pd\n",
    "from sklearn.model_selection import train_test_split\n",
    "from sklearn.preprocessing import StandardScaler\n",
    "from xgboost import XGBClassifier\n",
    "from sklearn.metrics import classification_report\n",
    "\n",
    "demo = pd.read_csv('/kaggle/input/national-health-and-nutrition-examination-survey/demographic.csv',\n",
    "                   usecols=['SEQN', 'RIAGENDR', 'RIDAGEYR', 'DMDEDUC2', 'INDFMPIR'])\n",
    "\n",
    "exam = pd.read_csv('/kaggle/input/national-health-and-nutrition-examination-survey/examination.csv',\n",
    "                   usecols=['SEQN', 'BMXBMI', 'BPXSY1', 'BPXDI1'])\n",
    "\n",
    "labs = pd.read_csv('/kaggle/input/national-health-and-nutrition-examination-survey/labs.csv',\n",
    "                   usecols=['SEQN', 'LBXSGL', 'LBDSGLSI', 'LBXTC', 'LBDTCSI', 'LBDHDD', 'LBDHDDSI'])\n",
    "\n",
    "quest = pd.read_csv('/kaggle/input/national-health-and-nutrition-examination-survey/questionnaire.csv',\n",
    "                    usecols=['SEQN', 'SMQ020', 'ALQ130', 'PAQ605', 'PAQ620', 'MCQ160F'])\n",
    "\n",
    "df = demo.merge(exam, on='SEQN') \\\n",
    "         .merge(labs, on='SEQN') \\\n",
    "         .merge(quest, on='SEQN')\n",
    "\n",
    "df = df.dropna()\n",
    "print(\"Final shape after merging and dropping NAs:\", df.shape)\n",
    "\n",
    "def glucose_status(glu):\n",
    "    if glu <= 100:\n",
    "        return 0\n",
    "    elif 100 < glu <= 125:\n",
    "        return 1\n",
    "    else:\n",
    "        return 2\n",
    "\n",
    "df['target'] = df['LBXSGL'].apply(glucose_status)\n",
    "\n",
    "X = df.drop(columns=['SEQN', 'target'])\n",
    "y = df['target']\n",
    "\n",
    "X_train, X_test, y_train, y_test = train_test_split(X, y, test_size=0.2, random_state=42)\n",
    "\n",
    "scaler = StandardScaler()\n",
    "X_train_scaled = scaler.fit_transform(X_train)\n",
    "X_test_scaled = scaler.transform(X_test)\n",
    "\n",
    "model = XGBClassifier(objective='multi:softmax', num_class=3, use_label_encoder=False, eval_metric='mlogloss')\n",
    "model.fit(X_train_scaled, y_train)\n",
    "\n",
    "y_pred = model.predict(X_test_scaled)\n",
    "print(classification_report(y_test, y_pred, target_names=[\"Normal\", \"Pre-diabetic\", \"Diabetic\"]))\n"
   ]
  }
 ],
 "metadata": {
  "kaggle": {
   "accelerator": "none",
   "dataSources": [
    {
     "datasetId": 731,
     "sourceId": 1359,
     "sourceType": "datasetVersion"
    }
   ],
   "dockerImageVersionId": 31089,
   "isGpuEnabled": false,
   "isInternetEnabled": false,
   "language": "python",
   "sourceType": "notebook"
  },
  "kernelspec": {
   "display_name": "Python 3",
   "language": "python",
   "name": "python3"
  },
  "language_info": {
   "codemirror_mode": {
    "name": "ipython",
    "version": 3
   },
   "file_extension": ".py",
   "mimetype": "text/x-python",
   "name": "python",
   "nbconvert_exporter": "python",
   "pygments_lexer": "ipython3",
   "version": "3.11.13"
  },
  "papermill": {
   "default_parameters": {},
   "duration": 8.426918,
   "end_time": "2025-07-08T10:12:47.278346",
   "environment_variables": {},
   "exception": null,
   "input_path": "__notebook__.ipynb",
   "output_path": "__notebook__.ipynb",
   "parameters": {},
   "start_time": "2025-07-08T10:12:38.851428",
   "version": "2.6.0"
  }
 },
 "nbformat": 4,
 "nbformat_minor": 5
}
